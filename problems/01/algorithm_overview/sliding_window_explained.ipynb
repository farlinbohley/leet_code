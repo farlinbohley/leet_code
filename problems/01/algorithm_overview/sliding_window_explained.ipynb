{
  "cells": [
    {
      "cell_type": "code",
      "execution_count": 1,
      "metadata": {},
      "outputs": [
        {
          "name": "stdout",
          "output_type": "stream",
          "text": [
            "Requirement already satisfied: matplotlib in /Library/Frameworks/Python.framework/Versions/3.13/lib/python3.13/site-packages (3.10.3)\n",
            "Requirement already satisfied: numpy in /Library/Frameworks/Python.framework/Versions/3.13/lib/python3.13/site-packages (2.2.5)\n",
            "Requirement already satisfied: contourpy>=1.0.1 in /Library/Frameworks/Python.framework/Versions/3.13/lib/python3.13/site-packages (from matplotlib) (1.3.2)\n",
            "Requirement already satisfied: cycler>=0.10 in /Library/Frameworks/Python.framework/Versions/3.13/lib/python3.13/site-packages (from matplotlib) (0.12.1)\n",
            "Requirement already satisfied: fonttools>=4.22.0 in /Library/Frameworks/Python.framework/Versions/3.13/lib/python3.13/site-packages (from matplotlib) (4.58.4)\n",
            "Requirement already satisfied: kiwisolver>=1.3.1 in /Library/Frameworks/Python.framework/Versions/3.13/lib/python3.13/site-packages (from matplotlib) (1.4.8)\n",
            "Requirement already satisfied: packaging>=20.0 in /Library/Frameworks/Python.framework/Versions/3.13/lib/python3.13/site-packages (from matplotlib) (25.0)\n",
            "Requirement already satisfied: pillow>=8 in /Library/Frameworks/Python.framework/Versions/3.13/lib/python3.13/site-packages (from matplotlib) (11.2.1)\n",
            "Requirement already satisfied: pyparsing>=2.3.1 in /Library/Frameworks/Python.framework/Versions/3.13/lib/python3.13/site-packages (from matplotlib) (3.2.3)\n",
            "Requirement already satisfied: python-dateutil>=2.7 in /Users/Chris/Library/Python/3.13/lib/python/site-packages (from matplotlib) (2.9.0.post0)\n",
            "Requirement already satisfied: six>=1.5 in /Users/Chris/Library/Python/3.13/lib/python/site-packages (from python-dateutil>=2.7->matplotlib) (1.17.0)\n"
          ]
        }
      ],
      "source": [
        "# Install packages if needed (run this cell if you get import errors)\n",
        "import sys\n",
        "!{sys.executable} -m pip install matplotlib numpy\n"
      ]
    },
    {
      "cell_type": "raw",
      "metadata": {
        "vscode": {
          "languageId": "raw"
        }
      },
      "source": [
        "# Sliding Window Algorithm Explained\n",
        "\n",
        "The **Sliding Window** algorithm is a technique used to solve problems involving subarrays or substrings. It's particularly efficient for problems that would otherwise require nested loops, reducing time complexity from O(n²) to O(n).\n",
        "\n",
        "## Table of Contents\n",
        "1. [What is Sliding Window?](#what-is-sliding-window)\n",
        "2. [When to Use Sliding Window](#when-to-use)\n",
        "3. [Types of Sliding Window](#types)\n",
        "4. [Fixed Size Window](#fixed-size)\n",
        "5. [Variable Size Window](#variable-size)\n",
        "6. [Common Patterns](#patterns)\n",
        "7. [Practice Problems](#practice)\n"
      ]
    },
    {
      "cell_type": "raw",
      "metadata": {
        "vscode": {
          "languageId": "raw"
        }
      },
      "source": [
        "## What is Sliding Window? <a id=\"what-is-sliding-window\"></a>\n",
        "\n",
        "The sliding window technique involves maintaining a window (a contiguous sequence of elements) that slides through the data structure, typically an array or string.\n",
        "\n",
        "### Key Concepts:\n",
        "- **Window**: A range of elements defined by start and end pointers\n",
        "- **Sliding**: Moving the window by adjusting the pointers\n",
        "- **Efficiency**: Avoids recalculating overlapping elements\n",
        "\n",
        "### Visual Representation:\n",
        "```\n",
        "Array: [1, 3, 5, 7, 9, 2, 4]\n",
        "       \n",
        "Window size 3:\n",
        "Step 1: [1, 3, 5] 7, 9, 2, 4\n",
        "Step 2:  1 [3, 5, 7] 9, 2, 4\n",
        "Step 3:  1, 3 [5, 7, 9] 2, 4\n",
        "Step 4:  1, 3, 5 [7, 9, 2] 4\n",
        "Step 5:  1, 3, 5, 7 [9, 2, 4]\n",
        "```\n"
      ]
    },
    {
      "cell_type": "raw",
      "metadata": {
        "vscode": {
          "languageId": "raw"
        }
      },
      "source": [
        "## When to Use Sliding Window <a id=\"when-to-use\"></a>\n",
        "\n",
        "The sliding window technique is ideal when:\n",
        "\n",
        "1. **Dealing with contiguous sequences** (subarrays/substrings)\n",
        "2. **Finding optimal values** (max, min, longest, shortest)\n",
        "3. **The problem has these characteristics:**\n",
        "   - Input is linear (array, string, linked list)\n",
        "   - Looking for subarray/substring with specific property\n",
        "   - Naive solution would use nested loops\n",
        "\n",
        "### Common Problem Types:\n",
        "- Maximum/minimum sum of subarray of size k\n",
        "- Longest substring with unique characters\n",
        "- Smallest subarray with sum ≥ target\n",
        "- Finding anagrams in a string\n",
        "- Maximum of all subarrays of size k\n"
      ]
    },
    {
      "cell_type": "raw",
      "metadata": {
        "vscode": {
          "languageId": "raw"
        }
      },
      "source": [
        "## Types of Sliding Window <a id=\"types\"></a>\n",
        "\n",
        "There are two main types of sliding window patterns:\n",
        "\n",
        "### 1. Fixed Size Window\n",
        "- Window size remains constant throughout\n",
        "- Both pointers move together\n",
        "- Example: Find max sum of subarray of size k\n",
        "\n",
        "### 2. Variable Size Window\n",
        "- Window size changes based on conditions\n",
        "- Pointers move independently\n",
        "- Example: Find smallest subarray with sum ≥ target\n",
        "\n",
        "Let's explore each type with examples!\n"
      ]
    },
    {
      "cell_type": "raw",
      "metadata": {
        "vscode": {
          "languageId": "raw"
        }
      },
      "source": [
        "## Fixed Size Window <a id=\"fixed-size\"></a>\n",
        "\n",
        "### Example: Maximum Sum of Subarray of Size K\n",
        "\n",
        "Given an array and a number k, find the maximum sum of any contiguous subarray of size k.\n"
      ]
    },
    {
      "cell_type": "code",
      "execution_count": 11,
      "metadata": {},
      "outputs": [
        {
          "name": "stdout",
          "output_type": "stream",
          "text": [
            "Array: [1, 3, 5, 7, 9, 2, 4]\n",
            "Window size: 3\n",
            "Maximum sum (naive): 21\n",
            "\n",
            "Step-by-step:\n",
            "Window 1: [1, 3, 5] -> Sum: 9\n",
            "Window 2: [3, 5, 7] -> Sum: 15\n",
            "Window 3: [5, 7, 9] -> Sum: 21\n",
            "Window 4: [7, 9, 2] -> Sum: 18\n",
            "Window 5: [9, 2, 4] -> Sum: 15\n"
          ]
        }
      ],
      "source": [
        "# Fixed Size Window - Naive Approach (O(n*k))\n",
        "def max_sum_naive(arr, k):\n",
        "    n = len(arr)\n",
        "    if n < k:\n",
        "        return None\n",
        "    \n",
        "    max_sum = float('-inf')\n",
        "    \n",
        "    # Try every possible window\n",
        "    for i in range(n - k + 1):\n",
        "        window_sum = 0\n",
        "        # Sum elements in current window\n",
        "        for j in range(i, i + k):\n",
        "            window_sum += arr[j]\n",
        "        max_sum = max(max_sum, window_sum)\n",
        "    \n",
        "    return max_sum\n",
        "\n",
        "# Test\n",
        "arr = [1, 3, 5, 7, 9, 2, 4]\n",
        "k = 3\n",
        "print(f\"Array: {arr}\")\n",
        "print(f\"Window size: {k}\")\n",
        "print(f\"Maximum sum (naive): {max_sum_naive(arr, k)}\")\n",
        "\n",
        "# Let's trace through the algorithm\n",
        "print(\"\\nStep-by-step:\")\n",
        "for i in range(len(arr) - k + 1):\n",
        "    window = arr[i:i+k]\n",
        "    print(f\"Window {i+1}: {window} -> Sum: {sum(window)}\")\n"
      ]
    },
    {
      "cell_type": "code",
      "execution_count": 3,
      "metadata": {},
      "outputs": [
        {
          "name": "stdout",
          "output_type": "stream",
          "text": [
            "Maximum sum (sliding window): 21\n",
            "\n",
            "Sliding Window Process:\n",
            "Initial window: [1, 3, 5] -> Sum: 9\n",
            "\n",
            "Slide 1:\n",
            "  Remove: 1\n",
            "  Add: 7\n",
            "  New window: [3, 5, 7] -> Sum: 15\n",
            "\n",
            "Slide 2:\n",
            "  Remove: 3\n",
            "  Add: 9\n",
            "  New window: [5, 7, 9] -> Sum: 21\n",
            "\n",
            "Slide 3:\n",
            "  Remove: 5\n",
            "  Add: 2\n",
            "  New window: [7, 9, 2] -> Sum: 18\n",
            "\n",
            "Slide 4:\n",
            "  Remove: 7\n",
            "  Add: 4\n",
            "  New window: [9, 2, 4] -> Sum: 15\n"
          ]
        }
      ],
      "source": [
        "# Fixed Size Window - Sliding Window Approach (O(n))\n",
        "def max_sum_sliding_window(arr, k):\n",
        "    n = len(arr)\n",
        "    if n < k:\n",
        "        return None\n",
        "    \n",
        "    # Calculate sum of first window\n",
        "    window_sum = sum(arr[:k])\n",
        "    max_sum = window_sum\n",
        "    \n",
        "    # Slide the window\n",
        "    for i in range(k, n):\n",
        "        # Remove leftmost element of previous window\n",
        "        # Add rightmost element of new window\n",
        "        window_sum = window_sum - arr[i - k] + arr[i]\n",
        "        max_sum = max(max_sum, window_sum)\n",
        "    \n",
        "    return max_sum\n",
        "\n",
        "# Test and visualize\n",
        "print(f\"Maximum sum (sliding window): {max_sum_sliding_window(arr, k)}\")\n",
        "\n",
        "# Visualize the sliding process\n",
        "print(\"\\nSliding Window Process:\")\n",
        "window_sum = sum(arr[:k])\n",
        "print(f\"Initial window: {arr[:k]} -> Sum: {window_sum}\")\n",
        "\n",
        "for i in range(k, len(arr)):\n",
        "    print(f\"\\nSlide {i-k+1}:\")\n",
        "    print(f\"  Remove: {arr[i-k]}\")\n",
        "    print(f\"  Add: {arr[i]}\")\n",
        "    window_sum = window_sum - arr[i-k] + arr[i]\n",
        "    print(f\"  New window: {arr[i-k+1:i+1]} -> Sum: {window_sum}\")\n"
      ]
    },
    {
      "cell_type": "code",
      "execution_count": 4,
      "metadata": {},
      "outputs": [
        {
          "data": {
            "image/png": "[encoded data removed]",
            "text/plain": [
              "<Figure size 1000x600 with 1 Axes>"
            ]
          },
          "metadata": {},
          "output_type": "display_data"
        }
      ],
      "source": [
        "# Time Complexity Comparison\n",
        "import time\n",
        "import random\n",
        "import matplotlib.pyplot as plt\n",
        "\n",
        "def compare_performance():\n",
        "    sizes = [100, 500, 1000, 2000, 3000]\n",
        "    k = 50\n",
        "    naive_times = []\n",
        "    sliding_times = []\n",
        "    \n",
        "    for n in sizes:\n",
        "        arr = [random.randint(1, 100) for _ in range(n)]\n",
        "        \n",
        "        # Time naive approach\n",
        "        start = time.time()\n",
        "        max_sum_naive(arr, k)\n",
        "        naive_times.append(time.time() - start)\n",
        "        \n",
        "        # Time sliding window approach\n",
        "        start = time.time()\n",
        "        max_sum_sliding_window(arr, k)\n",
        "        sliding_times.append(time.time() - start)\n",
        "    \n",
        "    # Plot results\n",
        "    plt.figure(figsize=(10, 6))\n",
        "    plt.plot(sizes, naive_times, 'r-o', label='Naive O(n*k)', linewidth=2, markersize=8)\n",
        "    plt.plot(sizes, sliding_times, 'g-o', label='Sliding Window O(n)', linewidth=2, markersize=8)\n",
        "    plt.xlabel('Array Size', fontsize=12)\n",
        "    plt.ylabel('Time (seconds)', fontsize=12)\n",
        "    plt.title('Performance Comparison: Naive vs Sliding Window', fontsize=14)\n",
        "    plt.legend(fontsize=12)\n",
        "    plt.grid(True, alpha=0.3)\n",
        "    plt.show()\n",
        "\n",
        "compare_performance()\n"
      ]
    },
    {
      "cell_type": "raw",
      "metadata": {
        "vscode": {
          "languageId": "raw"
        }
      },
      "source": [
        "## Variable Size Window <a id=\"variable-size\"></a>\n",
        "\n",
        "### Example 1: Smallest Subarray with Sum ≥ Target\n",
        "\n",
        "Find the minimum length of a contiguous subarray whose sum is greater than or equal to target.\n"
      ]
    },
    {
      "cell_type": "code",
      "execution_count": 5,
      "metadata": {},
      "outputs": [
        {
          "name": "stdout",
          "output_type": "stream",
          "text": [
            "Array: [2, 3, 1, 2, 4, 3]\n",
            "Target sum: 7\n",
            "Minimum subarray length: 2\n",
            "\n",
            "Step-by-step trace:\n",
            "\n",
            "Step 0: Expand window\n",
            "  Right pointer moves to index 0 (value: 2)\n",
            "  Window: [2]\n",
            "  Sum: 2\n",
            "\n",
            "Step 1: Expand window\n",
            "  Right pointer moves to index 1 (value: 3)\n",
            "  Window: [2, 3]\n",
            "  Sum: 5\n",
            "\n",
            "Step 2: Expand window\n",
            "  Right pointer moves to index 2 (value: 1)\n",
            "  Window: [2, 3, 1]\n",
            "  Sum: 6\n",
            "\n",
            "Step 3: Expand window\n",
            "  Right pointer moves to index 3 (value: 2)\n",
            "  Window: [2, 3, 1, 2]\n",
            "  Sum: 8\n",
            "\n",
            "  Sum 8 >= 7, try to shrink\n",
            "  Current window length: 4\n",
            "  After shrinking: [3, 1, 2], Sum: 6\n",
            "\n",
            "Step 4: Expand window\n",
            "  Right pointer moves to index 4 (value: 4)\n",
            "  Window: [3, 1, 2, 4]\n",
            "  Sum: 10\n",
            "\n",
            "  Sum 10 >= 7, try to shrink\n",
            "  Current window length: 4\n",
            "  After shrinking: [1, 2, 4], Sum: 7\n",
            "\n",
            "  Sum 7 >= 7, try to shrink\n",
            "  Current window length: 3\n",
            "  After shrinking: [2, 4], Sum: 6\n",
            "\n",
            "Step 5: Expand window\n",
            "  Right pointer moves to index 5 (value: 3)\n",
            "  Window: [2, 4, 3]\n",
            "  Sum: 9\n",
            "\n",
            "  Sum 9 >= 7, try to shrink\n",
            "  Current window length: 3\n",
            "  After shrinking: [4, 3], Sum: 7\n",
            "\n",
            "  Sum 7 >= 7, try to shrink\n",
            "  Current window length: 2\n",
            "  After shrinking: [3], Sum: 3\n"
          ]
        }
      ],
      "source": [
        "# Variable Size Window - Smallest Subarray with Sum >= Target\n",
        "def min_subarray_sum(arr, target):\n",
        "    n = len(arr)\n",
        "    min_length = float('inf')\n",
        "    window_sum = 0\n",
        "    left = 0\n",
        "    \n",
        "    # Expand window with right pointer\n",
        "    for right in range(n):\n",
        "        window_sum += arr[right]\n",
        "        \n",
        "        # Contract window while condition is met\n",
        "        while window_sum >= target and left <= right:\n",
        "            min_length = min(min_length, right - left + 1)\n",
        "            window_sum -= arr[left]\n",
        "            left += 1\n",
        "    \n",
        "    return min_length if min_length != float('inf') else 0\n",
        "\n",
        "# Test with visualization\n",
        "arr = [2, 3, 1, 2, 4, 3]\n",
        "target = 7\n",
        "print(f\"Array: {arr}\")\n",
        "print(f\"Target sum: {target}\")\n",
        "print(f\"Minimum subarray length: {min_subarray_sum(arr, target)}\")\n",
        "\n",
        "# Detailed trace\n",
        "def trace_variable_window(arr, target):\n",
        "    n = len(arr)\n",
        "    left = 0\n",
        "    window_sum = 0\n",
        "    step = 0\n",
        "    \n",
        "    print(\"\\nStep-by-step trace:\")\n",
        "    for right in range(n):\n",
        "        window_sum += arr[right]\n",
        "        print(f\"\\nStep {step}: Expand window\")\n",
        "        print(f\"  Right pointer moves to index {right} (value: {arr[right]})\")\n",
        "        print(f\"  Window: {arr[left:right+1]}\")\n",
        "        print(f\"  Sum: {window_sum}\")\n",
        "        step += 1\n",
        "        \n",
        "        while window_sum >= target and left <= right:\n",
        "            print(f\"\\n  Sum {window_sum} >= {target}, try to shrink\")\n",
        "            print(f\"  Current window length: {right - left + 1}\")\n",
        "            window_sum -= arr[left]\n",
        "            left += 1\n",
        "            if left <= right:\n",
        "                print(f\"  After shrinking: {arr[left:right+1]}, Sum: {window_sum}\")\n",
        "\n",
        "trace_variable_window(arr, target)\n"
      ]
    },
    {
      "cell_type": "raw",
      "metadata": {
        "vscode": {
          "languageId": "raw"
        }
      },
      "source": [
        "### Example 2: Longest Substring Without Repeating Characters\n",
        "\n",
        "Find the length of the longest substring without repeating characters.\n"
      ]
    },
    {
      "cell_type": "code",
      "execution_count": 6,
      "metadata": {},
      "outputs": [
        {
          "name": "stdout",
          "output_type": "stream",
          "text": [
            "String: 'abcabcbb' -> Longest substring length: 3\n",
            "String: 'bbbbb' -> Longest substring length: 1\n",
            "String: 'pwwkew' -> Longest substring length: 3\n",
            "String: '' -> Longest substring length: 0\n",
            "\n",
            "Detailed trace for 'abcabcbb':\n",
            "\n",
            "--- Position 0: 'a' ---\n",
            "Current window: 'a' (length: 1)\n",
            "Character set: {'a'}\n",
            "\n",
            "--- Position 1: 'b' ---\n",
            "Current window: 'ab' (length: 2)\n",
            "Character set: {'b', 'a'}\n",
            "\n",
            "--- Position 2: 'c' ---\n",
            "Current window: 'abc' (length: 3)\n",
            "Character set: {'c', 'b', 'a'}\n",
            "\n",
            "--- Position 3: 'a' ---\n",
            "'a' already in window!\n",
            "  Remove 'a' from left\n",
            "Current window: 'bca' (length: 3)\n",
            "Character set: {'c', 'b', 'a'}\n",
            "\n",
            "--- Position 4: 'b' ---\n",
            "'b' already in window!\n",
            "  Remove 'b' from left\n",
            "Current window: 'cab' (length: 3)\n",
            "Character set: {'c', 'b', 'a'}\n",
            "\n",
            "--- Position 5: 'c' ---\n",
            "'c' already in window!\n",
            "  Remove 'c' from left\n",
            "Current window: 'abc' (length: 3)\n",
            "Character set: {'c', 'b', 'a'}\n",
            "\n",
            "--- Position 6: 'b' ---\n",
            "'b' already in window!\n",
            "  Remove 'a' from left\n",
            "  Remove 'b' from left\n",
            "Current window: 'cb' (length: 2)\n",
            "Character set: {'c', 'b'}\n",
            "\n",
            "--- Position 7: 'b' ---\n",
            "'b' already in window!\n",
            "  Remove 'c' from left\n",
            "  Remove 'b' from left\n",
            "Current window: 'b' (length: 1)\n",
            "Character set: {'b'}\n"
          ]
        }
      ],
      "source": [
        "# Variable Size Window - Longest Substring Without Repeating Characters\n",
        "def longest_substring_no_repeat(s):\n",
        "    char_set = set()\n",
        "    left = 0\n",
        "    max_length = 0\n",
        "    \n",
        "    for right in range(len(s)):\n",
        "        # If character already in window, shrink from left\n",
        "        while s[right] in char_set:\n",
        "            char_set.remove(s[left])\n",
        "            left += 1\n",
        "        \n",
        "        # Add current character to window\n",
        "        char_set.add(s[right])\n",
        "        max_length = max(max_length, right - left + 1)\n",
        "    \n",
        "    return max_length\n",
        "\n",
        "# Test cases with visualization\n",
        "test_strings = [\"abcabcbb\", \"bbbbb\", \"pwwkew\", \"\"]\n",
        "\n",
        "for s in test_strings:\n",
        "    result = longest_substring_no_repeat(s)\n",
        "    print(f\"String: '{s}' -> Longest substring length: {result}\")\n",
        "\n",
        "# Detailed visualization for one example\n",
        "def visualize_substring_search(s):\n",
        "    print(f\"\\nDetailed trace for '{s}':\")\n",
        "    char_set = set()\n",
        "    left = 0\n",
        "    \n",
        "    for right in range(len(s)):\n",
        "        print(f\"\\n--- Position {right}: '{s[right]}' ---\")\n",
        "        \n",
        "        # Check if we need to shrink\n",
        "        if s[right] in char_set:\n",
        "            print(f\"'{s[right]}' already in window!\")\n",
        "            while s[right] in char_set:\n",
        "                print(f\"  Remove '{s[left]}' from left\")\n",
        "                char_set.remove(s[left])\n",
        "                left += 1\n",
        "        \n",
        "        # Add current character\n",
        "        char_set.add(s[right])\n",
        "        window = s[left:right+1]\n",
        "        print(f\"Current window: '{window}' (length: {len(window)})\")\n",
        "        print(f\"Character set: {char_set}\")\n",
        "\n",
        "visualize_substring_search(\"abcabcbb\")\n"
      ]
    },
    {
      "cell_type": "raw",
      "metadata": {
        "vscode": {
          "languageId": "raw"
        }
      },
      "source": [
        "## Common Sliding Window Patterns <a id=\"patterns\"></a>\n",
        "\n",
        "### Pattern 1: Fixed Window\n",
        "```python\n",
        "def fixed_window_template(arr, k):\n",
        "    # Initialize window\n",
        "    window_sum = sum(arr[:k])\n",
        "    result = window_sum\n",
        "    \n",
        "    # Slide window\n",
        "    for i in range(k, len(arr)):\n",
        "        window_sum = window_sum - arr[i-k] + arr[i]\n",
        "        result = update_result(result, window_sum)\n",
        "    \n",
        "    return result\n",
        "```\n",
        "\n",
        "### Pattern 2: Variable Window (Expand and Shrink)\n",
        "```python\n",
        "def variable_window_template(arr, condition):\n",
        "    left = 0\n",
        "    result = initial_value\n",
        "    window_state = initial_state\n",
        "    \n",
        "    for right in range(len(arr)):\n",
        "        # Expand window\n",
        "        update_window_state(arr[right])\n",
        "        \n",
        "        # Shrink window while condition is violated\n",
        "        while not_valid(window_state, condition):\n",
        "            remove_from_window(arr[left])\n",
        "            left += 1\n",
        "        \n",
        "        # Update result\n",
        "        result = update_result(result, window_state)\n",
        "    \n",
        "    return result\n",
        "```\n",
        "\n",
        "### Pattern 3: Variable Window with Frequency Map\n",
        "```python\n",
        "def frequency_window_template(s):\n",
        "    freq_map = {}\n",
        "    left = 0\n",
        "    result = initial_value\n",
        "    \n",
        "    for right in range(len(s)):\n",
        "        # Add to frequency map\n",
        "        freq_map[s[right]] = freq_map.get(s[right], 0) + 1\n",
        "        \n",
        "        # Shrink window based on frequency condition\n",
        "        while not_valid_frequency(freq_map):\n",
        "            freq_map[s[left]] -= 1\n",
        "            if freq_map[s[left]] == 0:\n",
        "                del freq_map[s[left]]\n",
        "            left += 1\n",
        "        \n",
        "        # Update result\n",
        "        result = update_result(result, right - left + 1)\n",
        "    \n",
        "    return result\n",
        "```\n"
      ]
    },
    {
      "cell_type": "raw",
      "metadata": {
        "vscode": {
          "languageId": "raw"
        }
      },
      "source": [
        "## Practice Problems <a id=\"practice\"></a>\n",
        "\n",
        "Here are some classic sliding window problems to practice:\n"
      ]
    },
    {
      "cell_type": "code",
      "execution_count": 7,
      "metadata": {},
      "outputs": [
        {
          "name": "stdout",
          "output_type": "stream",
          "text": [
            "Array: [1, 12, -5, -6, 50, 3]\n",
            "k = 4\n",
            "Maximum average: 12.75\n",
            "Subarray with max average: [-5, -6, 50, 3] (average: 10.5)\n"
          ]
        }
      ],
      "source": [
        "# Practice Problem 1: Maximum Average Subarray\n",
        "# Find contiguous subarray of length k with maximum average\n",
        "\n",
        "def find_max_average(nums, k):\n",
        "    \"\"\"\n",
        "    Given an array nums and an integer k, find the contiguous \n",
        "    subarray of length k that has the maximum average value.\n",
        "    \"\"\"\n",
        "    # Calculate sum of first window\n",
        "    window_sum = sum(nums[:k])\n",
        "    max_sum = window_sum\n",
        "    \n",
        "    # Slide the window\n",
        "    for i in range(k, len(nums)):\n",
        "        window_sum = window_sum - nums[i-k] + nums[i]\n",
        "        max_sum = max(max_sum, window_sum)\n",
        "    \n",
        "    return max_sum / k\n",
        "\n",
        "# Test\n",
        "nums = [1, 12, -5, -6, 50, 3]\n",
        "k = 4\n",
        "print(f\"Array: {nums}\")\n",
        "print(f\"k = {k}\")\n",
        "print(f\"Maximum average: {find_max_average(nums, k)}\")\n",
        "print(f\"Subarray with max average: {nums[2:6]} (average: {sum(nums[2:6])/k})\")\n"
      ]
    },
    {
      "cell_type": "code",
      "execution_count": 8,
      "metadata": {},
      "outputs": [
        {
          "name": "stdout",
          "output_type": "stream",
          "text": [
            "Fruits: [1, 2, 1]\n",
            "Maximum fruits collected: 3\n",
            "\n",
            "Fruits: [0, 1, 2, 2]\n",
            "Maximum fruits collected: 3\n",
            "\n",
            "Fruits: [1, 2, 3, 2, 2]\n",
            "Maximum fruits collected: 4\n",
            "\n",
            "Fruits: [3, 3, 3, 1, 2, 1, 1, 2, 3, 3, 4]\n",
            "Maximum fruits collected: 5\n",
            "\n"
          ]
        }
      ],
      "source": [
        "# Practice Problem 2: Fruit Into Baskets\n",
        "# You have two baskets, each can hold one type of fruit. \n",
        "# Find the maximum number of fruits you can collect.\n",
        "\n",
        "def total_fruit(fruits):\n",
        "    \"\"\"\n",
        "    Given an array of fruits (represented by integers), find the length\n",
        "    of the longest subarray containing at most 2 different types.\n",
        "    \"\"\"\n",
        "    basket = {}  # fruit_type -> count\n",
        "    left = 0\n",
        "    max_fruits = 0\n",
        "    \n",
        "    for right in range(len(fruits)):\n",
        "        # Add current fruit to basket\n",
        "        basket[fruits[right]] = basket.get(fruits[right], 0) + 1\n",
        "        \n",
        "        # If more than 2 types, remove from left\n",
        "        while len(basket) > 2:\n",
        "            basket[fruits[left]] -= 1\n",
        "            if basket[fruits[left]] == 0:\n",
        "                del basket[fruits[left]]\n",
        "            left += 1\n",
        "        \n",
        "        max_fruits = max(max_fruits, right - left + 1)\n",
        "    \n",
        "    return max_fruits\n",
        "\n",
        "# Test cases\n",
        "test_cases = [\n",
        "    [1, 2, 1],           # Can collect all\n",
        "    [0, 1, 2, 2],        # [1, 2, 2] = 3 fruits\n",
        "    [1, 2, 3, 2, 2],     # [2, 3, 2, 2] = 4 fruits\n",
        "    [3, 3, 3, 1, 2, 1, 1, 2, 3, 3, 4]  # [1, 2, 1, 1, 2] = 5 fruits\n",
        "]\n",
        "\n",
        "for fruits in test_cases:\n",
        "    result = total_fruit(fruits)\n",
        "    print(f\"Fruits: {fruits}\")\n",
        "    print(f\"Maximum fruits collected: {result}\\n\")\n"
      ]
    },
    {
      "cell_type": "code",
      "execution_count": 9,
      "metadata": {},
      "outputs": [
        {
          "name": "stdout",
          "output_type": "stream",
          "text": [
            "String: 'cbaebabacd'\n",
            "Pattern: 'abc'\n",
            "Anagram starting indices: [0, 6]\n",
            "  Anagram at index 0: 'cba'\n",
            "  Anagram at index 6: 'bac'\n"
          ]
        }
      ],
      "source": [
        "# Practice Problem 3: Find All Anagrams\n",
        "# Find all start indices of anagrams of pattern in string\n",
        "\n",
        "def find_anagrams(s, pattern):\n",
        "    \"\"\"\n",
        "    Given a string s and a pattern, find all starting indices \n",
        "    of pattern's anagrams in s.\n",
        "    \"\"\"\n",
        "    if len(s) < len(pattern):\n",
        "        return []\n",
        "    \n",
        "    result = []\n",
        "    pattern_freq = {}\n",
        "    window_freq = {}\n",
        "    \n",
        "    # Count frequency of pattern\n",
        "    for char in pattern:\n",
        "        pattern_freq[char] = pattern_freq.get(char, 0) + 1\n",
        "    \n",
        "    # Initialize window with first k characters\n",
        "    k = len(pattern)\n",
        "    for i in range(k):\n",
        "        window_freq[s[i]] = window_freq.get(s[i], 0) + 1\n",
        "    \n",
        "    # Check if first window is anagram\n",
        "    if window_freq == pattern_freq:\n",
        "        result.append(0)\n",
        "    \n",
        "    # Slide the window\n",
        "    for i in range(k, len(s)):\n",
        "        # Add new character\n",
        "        window_freq[s[i]] = window_freq.get(s[i], 0) + 1\n",
        "        \n",
        "        # Remove old character\n",
        "        old_char = s[i - k]\n",
        "        window_freq[old_char] -= 1\n",
        "        if window_freq[old_char] == 0:\n",
        "            del window_freq[old_char]\n",
        "        \n",
        "        # Check if current window is anagram\n",
        "        if window_freq == pattern_freq:\n",
        "            result.append(i - k + 1)\n",
        "    \n",
        "    return result\n",
        "\n",
        "# Test\n",
        "s = \"cbaebabacd\"\n",
        "pattern = \"abc\"\n",
        "indices = find_anagrams(s, pattern)\n",
        "print(f\"String: '{s}'\")\n",
        "print(f\"Pattern: '{pattern}'\")\n",
        "print(f\"Anagram starting indices: {indices}\")\n",
        "\n",
        "# Show the anagrams\n",
        "for idx in indices:\n",
        "    print(f\"  Anagram at index {idx}: '{s[idx:idx+len(pattern)]}'\")\n"
      ]
    },
    {
      "cell_type": "raw",
      "metadata": {
        "vscode": {
          "languageId": "raw"
        }
      },
      "source": [
        "## Summary and Tips\n",
        "\n",
        "### Key Takeaways:\n",
        "\n",
        "1. **Sliding Window** is perfect for problems involving contiguous sequences\n",
        "2. **Fixed Window**: When window size is given (k elements)\n",
        "3. **Variable Window**: When you need to find optimal window size\n",
        "4. **Time Complexity**: Usually O(n) instead of O(n²) for brute force\n",
        "\n",
        "### Problem-Solving Tips:\n",
        "\n",
        "1. **Identify the Pattern**:\n",
        "   - Keywords: \"subarray\", \"substring\", \"contiguous\", \"window\"\n",
        "   - Operations: max/min, longest/shortest, sum/average\n",
        "\n",
        "2. **Choose Window Type**:\n",
        "   - Fixed: Problem specifies exact size\n",
        "   - Variable: Problem asks for optimal size\n",
        "\n",
        "3. **Track Window State**:\n",
        "   - Use variables for simple states (sum, count)\n",
        "   - Use hash maps for complex states (frequencies, unique elements)\n",
        "\n",
        "4. **Common Mistakes to Avoid**:\n",
        "   - Forgetting to remove elements when shrinking window\n",
        "   - Not handling edge cases (empty array, k > array length)\n",
        "   - Incorrect window boundary calculations\n",
        "\n",
        "### More Practice Problems:\n",
        "- Permutation in String (LeetCode 567)\n",
        "- Minimum Window Substring (LeetCode 76)\n",
        "- Longest Repeating Character Replacement (LeetCode 424)\n",
        "- Sliding Window Maximum (LeetCode 239)\n",
        "- Subarray Product Less Than K (LeetCode 713)\n"
      ]
    },
    {
      "cell_type": "code",
      "execution_count": 10,
      "metadata": {},
      "outputs": [
        {
          "data": {
            "image/png": "[encoded data removed]",
            "text/plain": [
              "<Figure size 1400x600 with 2 Axes>"
            ]
          },
          "metadata": {},
          "output_type": "display_data"
        },
        {
          "name": "stdout",
          "output_type": "stream",
          "text": [
            "🎯 Remember: Sliding Window transforms O(n²) problems into O(n) solutions!\n"
          ]
        }
      ],
      "source": [
        "# Visual Summary: When to Use Each Approach\n",
        "import matplotlib.pyplot as plt\n",
        "import numpy as np\n",
        "\n",
        "fig, (ax1, ax2) = plt.subplots(1, 2, figsize=(14, 6))\n",
        "\n",
        "# Fixed Window Visualization\n",
        "ax1.set_title('Fixed Size Window', fontsize=16, fontweight='bold')\n",
        "arr1 = [2, 1, 5, 1, 3, 2, 4, 3, 1]\n",
        "positions = np.arange(len(arr1))\n",
        "colors = ['lightblue'] * len(arr1)\n",
        "colors[2:5] = ['orange'] * 3  # Highlight window\n",
        "\n",
        "bars1 = ax1.bar(positions, arr1, color=colors, edgecolor='black')\n",
        "ax1.set_xlabel('Index', fontsize=12)\n",
        "ax1.set_ylabel('Value', fontsize=12)\n",
        "ax1.set_xticks(positions)\n",
        "ax1.annotate('Window (k=3)', xy=(3, 5.5), fontsize=12, ha='center',\n",
        "             bbox=dict(boxstyle=\"round,pad=0.3\", facecolor=\"orange\", alpha=0.7))\n",
        "\n",
        "# Variable Window Visualization  \n",
        "ax2.set_title('Variable Size Window', fontsize=16, fontweight='bold')\n",
        "arr2 = [2, 3, 1, 2, 4, 3]\n",
        "positions2 = np.arange(len(arr2))\n",
        "colors2 = ['lightblue'] * len(arr2)\n",
        "colors2[2:5] = ['lightgreen'] * 3  # Highlight optimal window\n",
        "\n",
        "bars2 = ax2.bar(positions2, arr2, color=colors2, edgecolor='black')\n",
        "ax2.set_xlabel('Index', fontsize=12)\n",
        "ax2.set_ylabel('Value', fontsize=12)\n",
        "ax2.set_xticks(positions2)\n",
        "ax2.annotate('Optimal Window\\n(sum ≥ 7)', xy=(3, 4.5), fontsize=12, ha='center',\n",
        "             bbox=dict(boxstyle=\"round,pad=0.3\", facecolor=\"lightgreen\", alpha=0.7))\n",
        "\n",
        "plt.tight_layout()\n",
        "plt.show()\n",
        "\n",
        "print(\"🎯 Remember: Sliding Window transforms O(n²) problems into O(n) solutions!\")\n"
      ]
    }
  ],
  "metadata": {
    "kernelspec": {
      "display_name": "Python 3",
      "language": "python",
      "name": "python3"
    },
    "language_info": {
      "codemirror_mode": {
        "name": "ipython",
        "version": 3
      },
      "file_extension": ".py",
      "mimetype": "text/x-python",
      "name": "python",
      "nbconvert_exporter": "python",
      "pygments_lexer": "ipython3",
      "version": "3.13.3"
    }
  },
  "nbformat": 4,
  "nbformat_minor": 2
}
