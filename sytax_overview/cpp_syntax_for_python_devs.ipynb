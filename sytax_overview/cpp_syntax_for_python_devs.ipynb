{
 "cells": [
  {
   "cell_type": "code",
   "execution_count": null,
   "metadata": {},
   "outputs": [],
   "source": [
    "# C++ Core Syntax for Python Developers\n",
    "\n",
    "Welcome! This notebook will teach you C++ syntax by comparing it with Python. We'll use the xeus-cling C++ kernel for Jupyter.\n",
    "\n",
    "## Table of Contents\n",
    "1. [Setup and Hello World](#1-setup-and-hello-world)\n",
    "2. [Variables and Data Types](#2-variables-and-data-types)\n",
    "3. [Input/Output](#3-inputoutput)\n",
    "4. [Control Flow](#4-control-flow)\n",
    "5. [Functions](#5-functions)\n",
    "6. [Arrays and Vectors](#6-arrays-and-vectors)\n",
    "7. [Classes and Objects](#7-classes-and-objects)\n",
    "8. [Key C++ Concepts](#8-key-cpp-concepts)\n",
    "9. [Practice Exercises](#9-practice-exercises)\n"
   ]
  },
  {
   "cell_type": "raw",
   "metadata": {
    "vscode": {
     "languageId": "raw"
    }
   },
   "source": [
    "## 1. Setup and Hello World\n",
    "\n",
    "**Important Note**: This notebook requires the xeus-cpp C++ kernel to run C++ code. If you're seeing errors, please make sure:\n",
    "1. You have xeus-cpp installed: `conda install -c conda-forge xeus-cpp`\n",
    "2. You've selected the C++ kernel (xcpp23, xcpp20, or xcpp17) in Jupyter\n",
    "3. Unlike xeus-cling, xeus-cpp allows you to include headers in any cell\n",
    "\n",
    "### Python Version:\n"
   ]
  },
  {
   "cell_type": "markdown",
   "metadata": {},
   "source": [
    "```python\n",
    "# Python - No setup needed!\n",
    "print(\"Hello, World!\")\n",
    "```\n"
   ]
  },
  {
   "cell_type": "code",
   "execution_count": null,
   "metadata": {},
   "outputs": [],
   "source": [
    "### C++ Version:\n",
    "\n",
    "In C++, we need to:\n",
    "- Include libraries with `#include`\n",
    "- Use namespaces\n",
    "- End statements with semicolons\n"
   ]
  },
  {
   "cell_type": "code",
   "execution_count": null,
   "metadata": {},
   "outputs": [],
   "source": [
    "// C++ Hello World with includes\n",
    "#include <iostream>\n",
    "#include <string>\n",
    "#include <vector>\n",
    "#include <cmath>  // For sqrt and other math functions\n",
    "using namespace std;\n",
    "\n",
    "cout << \"Hello, World!\" << endl;\n"
   ]
  },
  {
   "cell_type": "code",
   "execution_count": 1,
   "metadata": {},
   "outputs": [
    {
     "name": "stdout",
     "output_type": "stream",
     "text": [
      "Hello, World!\n"
     ]
    }
   ],
   "source": [
    "// C++ Hello World with includes\n",
    "#include <iostream>\n",
    "#include <string>\n",
    "#include <vector>\n",
    "#include <cmath>  // For sqrt and other math functions\n",
    "using namespace std;\n",
    "\n",
    "cout << \"Hello, World!\" << endl;\n"
   ]
  },
  {
   "cell_type": "code",
   "execution_count": null,
   "metadata": {},
   "outputs": [],
   "source": [
    "### Key Differences:\n",
    "- **Headers**: `#include` brings in libraries (like Python's `import`)\n",
    "- **Namespace**: `using namespace std` lets us use `cout` instead of `std::cout`\n",
    "- **Semicolons**: Every statement ends with `;`\n",
    "- **Output**: `cout <<` instead of `print()`\n"
   ]
  },
  {
   "cell_type": "raw",
   "metadata": {
    "vscode": {
     "languageId": "raw"
    }
   },
   "source": [
    "## 2. Variables and Data Types\n",
    "\n",
    "### Python: Dynamic Typing\n"
   ]
  },
  {
   "cell_type": "markdown",
   "metadata": {
    "vscode": {
     "languageId": "cpp"
    }
   },
   "source": [
    "```python\n",
    "# Python - Type is inferred\n",
    "x = 42\n",
    "name = \"Alice\"\n",
    "pi = 3.14159\n",
    "is_valid = True\n",
    "\n",
    "# Type can change\n",
    "x = \"Now I'm a string!\"\n",
    "print(f\"x = {x}, type: {type(x)}\")\n",
    "```\n"
   ]
  },
  {
   "cell_type": "raw",
   "metadata": {
    "vscode": {
     "languageId": "raw"
    }
   },
   "source": [
    "### C++: Static Typing\n"
   ]
  },
  {
   "cell_type": "code",
   "execution_count": null,
   "metadata": {},
   "outputs": [],
   "source": [
    "// C++ - Must declare types explicitly\n",
    "int x = 42;           // Integer\n",
    "string name = \"Alice\"; // String\n",
    "double pi = 3.14159;  // Double precision float\n",
    "bool is_valid = true; // Boolean (lowercase!)\n",
    "\n",
    "cout << \"x = \" << x << \", type: int\" << endl;\n",
    "cout << \"name = \" << name << \", type: string\" << endl;\n",
    "cout << \"pi = \" << pi << \", type: double\" << endl;\n",
    "cout << \"is_valid = \" << is_valid << \", type: bool\" << e\n",
    "dl;\n"
   ]
  },
  {
   "cell_type": "raw",
   "metadata": {
    "vscode": {
     "languageId": "raw"
    }
   },
   "source": [
    "### C++ Data Types Reference\n"
   ]
  },
  {
   "cell_type": "code",
   "execution_count": null,
   "metadata": {},
   "outputs": [],
   "source": [
    "// Integer types\n",
    "int age = 25;           // Standard integer\n",
    "long big_num = 1000000; // Larger integer\n",
    "short small_num = 100;  // Smaller integer\n",
    "\n",
    "// Floating point\n",
    "float height = 5.9f;    // Single precision (note the 'f')\n",
    "double weight = 150.5;  // Double precision (default for decimals)\n",
    "\n",
    "// Character and string\n",
    "char grade = 'A';       // Single character (single quotes!)\n",
    "string message = \"Hi!\"; // String (double quotes!)\n",
    "\n",
    "// Boolean\n",
    "bool passed = true;     // true/false (lowercase!)\n",
    "bool failed = false;\n",
    "\n",
    "// Auto type (C++11) - compiler infers type\n",
    "auto score = 95;        // Inferred as int\n",
    "auto gpa = 3.8;        // Inferred as double\n",
    "\n",
    "cout << \"All variables declared successfully!\" << endl;\n"
   ]
  },
  {
   "cell_type": "raw",
   "metadata": {
    "vscode": {
     "languageId": "raw"
    }
   },
   "source": [
    "## 3. Input/Output\n",
    "\n",
    "### Python I/O:\n"
   ]
  },
  {
   "cell_type": "markdown",
   "metadata": {
    "vscode": {
     "languageId": "cpp"
    }
   },
   "source": [
    "```python\n",
    "# Python input/output (demonstration)\n",
    "name = \"Alice\"  # In interactive: input(\"Enter your name: \")\n",
    "age = 25        # In interactive: int(input(\"Enter your age: \"))\n",
    "print(f\"Hello {name}, you are {age} years old!\")\n",
    "```\n"
   ]
  },
  {
   "cell_type": "raw",
   "metadata": {
    "vscode": {
     "languageId": "raw"
    }
   },
   "source": [
    "### C++ I/O:\n",
    "\n",
    "Note: In Jupyter with xeus-cling, interactive input might not work as expected. Here's the syntax:\n"
   ]
  },
  {
   "cell_type": "code",
   "execution_count": null,
   "metadata": {},
   "outputs": [
    {
     "name": "stdout",
     "output_type": "stream",
     "text": [
      "Hello, World!\n",
      "Multiple parts concatenated\n",
      "Number: 42, Price: $19.99\n",
      "Welcome Demo User, age 25!\n"
     ]
    }
   ],
   "source": [
    "// C++ output\n",
    "cout << \"Hello, World!\" << endl;  // endl adds newline and flushes buffer\n",
    "cout << \"Multiple \" << \"parts \" << \"concatenated\" << endl;\n",
    "\n",
    "// Formatting output\n",
    "int num = 42;\n",
    "double price = 19.99;\n",
    "cout << \"Number: \" << num << \", Price: $\" << price << endl;\n",
    "\n",
    "// C++ input (demonstration of syntax)\n",
    "string user_name = \"Demo User\";  // In real program: cin >> user_name;\n",
    "int user_age = 25;              // In real program: cin >> user_age;\n",
    "cout << \"Welcome \" << user_name << \", age \" << user_age << \"!\" << endl;\n"
   ]
  },
  {
   "cell_type": "raw",
   "metadata": {
    "vscode": {
     "languageId": "raw"
    }
   },
   "source": [
    "## 4. Control Flow\n",
    "\n",
    "### If-Else Statements\n",
    "\n",
    "**Python:**\n"
   ]
  },
  {
   "cell_type": "markdown",
   "metadata": {
    "vscode": {
     "languageId": "cpp"
    }
   },
   "source": [
    "```python\n",
    "# Python if-else\n",
    "score = 85\n",
    "\n",
    "if score >= 90:\n",
    "    print(\"Grade: A\")\n",
    "elif score >= 80:\n",
    "    print(\"Grade: B\")\n",
    "elif score >= 70:\n",
    "    print(\"Grade: C\")\n",
    "else:\n",
    "    print(\"Grade: F\")\n",
    "```\n"
   ]
  },
  {
   "cell_type": "raw",
   "metadata": {
    "vscode": {
     "languageId": "raw"
    }
   },
   "source": [
    "**C++:**\n"
   ]
  },
  {
   "cell_type": "code",
   "execution_count": null,
   "metadata": {},
   "outputs": [],
   "source": [
    "// C++ if-else\n",
    "int score = 85;\n",
    "\n",
    "if (score >= 90) {\n",
    "    cout << \"Grade: A\" << endl;\n",
    "} else if (score >= 80) {\n",
    "    cout << \"Grade: B\" << endl;\n",
    "} else if (score >= 70) {\n",
    "    cout << \"Grade: C\" << endl;\n",
    "} else {\n",
    "    cout << \"Grade: F\" << endl;\n",
    "}\n"
   ]
  },
  {
   "cell_type": "raw",
   "metadata": {
    "vscode": {
     "languageId": "raw"
    }
   },
   "source": [
    "### Loops\n",
    "\n",
    "**Python Loops:**\n"
   ]
  },
  {
   "cell_type": "markdown",
   "metadata": {
    "vscode": {
     "languageId": "cpp"
    }
   },
   "source": [
    "```python\n",
    "# Python for loop\n",
    "print(\"For loop (range):\")\n",
    "for i in range(5):\n",
    "    print(f\"i = {i}\")\n",
    "\n",
    "print(\"\\nFor loop (list):\")\n",
    "fruits = [\"apple\", \"banana\", \"orange\"]\n",
    "for fruit in fruits:\n",
    "    print(fruit)\n",
    "\n",
    "print(\"\\nWhile loop:\")\n",
    "count = 0\n",
    "while count < 3:\n",
    "    print(f\"Count: {count}\")\n",
    "    count += 1\n",
    "```\n"
   ]
  },
  {
   "cell_type": "raw",
   "metadata": {
    "vscode": {
     "languageId": "raw"
    }
   },
   "source": [
    "**C++ Loops:**\n"
   ]
  },
  {
   "cell_type": "code",
   "execution_count": 6,
   "metadata": {},
   "outputs": [
    {
     "name": "stderr",
     "output_type": "stream",
     "text": [
      "In file included from <<< inputs >>>:1:\n",
      "input_line_7:17:17: error: expected '>'\n",
      "   17 | while (count < 3) {\n",
      "      |                 ^\n",
      "input_line_7:17:14: note: to match this '<'\n",
      "   17 | while (count < 3) {\n",
      "      |              ^\n",
      "input_line_7:17:17: error: type name requires a specifier or qualifier\n",
      "   17 | while (count < 3) {\n",
      "      |                 ^\n",
      "input_line_7:17:17: error: expected unqualified-id\n",
      "input_line_7:18:26: error: reference to 'count' is ambiguous\n",
      "   18 |     cout << \"Count: \" << count << endl;\n",
      "      |                          ^\n",
      "input_line_7:16:5: note: candidate found by name lookup is 'count'\n",
      "   16 | int count = 0;\n",
      "      |     ^\n",
      "/Library/Developer/CommandLineTools/SDKs/MacOSX.sdk/usr/include/c++/v1/__algorithm/count.h:83:1: note: candidate found by name lookup is 'std::count'\n",
      "   83 | count(_InputIterator __first, _InputIterator __last, const _Tp& __value) {\n",
      "      | ^\n",
      "In file included from <<< inputs >>>:1:\n",
      "input_line_7:19:5: error: reference to 'count' is ambiguous\n",
      "   19 |     count++;\n",
      "      |     ^\n",
      "input_line_7:16:5: note: candidate found by name lookup is 'count'\n",
      "   16 | int count = 0;\n",
      "      |     ^\n",
      "/Library/Developer/CommandLineTools/SDKs/MacOSX.sdk/usr/include/c++/v1/__algorithm/count.h:83:1: note: candidate found by name lookup is 'std::count'\n",
      "   83 | count(_InputIterator __first, _InputIterator __last, const _Tp& __value) {\n",
      "      | ^\n",
      "Failed to parse via ::process:Parsing failed.\n"
     ]
    },
    {
     "ename": "Error: ",
     "evalue": "Compilation error! In file included from <<< inputs >>>:1:\ninput_line_7:17:17: error: expected '>'\n   17 | while (count < 3) {\n      |                 ^\ninput_line_7:17:14: note: to match this '<'\n   17 | while (count < 3) {\n      |              ^\ninput_line_7:17:17: error: type name requires a specifier or qualifier\n   17 | while (count < 3) {\n      |                 ^\ninput_line_7:17:17: error: expected unqualified-id\ninput_line_7:18:26: error: reference to 'count' is ambiguous\n   18 |     cout << \"Count: \" << count << endl;\n      |                          ^\ninput_line_7:16:5: note: candidate found by name lookup is 'count'\n   16 | int count = 0;\n      |     ^\n/Library/Developer/CommandLineTools/SDKs/MacOSX.sdk/usr/include/c++/v1/__algorithm/count.h:83:1: note: candidate found by name lookup is 'std::count'\n   83 | count(_InputIterator __first, _InputIterator __last, const _Tp& __value) {\n      | ^\nIn file included from <<< inputs >>>:1:\ninput_line_7:19:5: error: reference to 'count' is ambiguous\n   19 |     count++;\n      |     ^\ninput_line_7:16:5: note: candidate found by name lookup is 'count'\n   16 | int count = 0;\n      |     ^\n/Library/Developer/CommandLineTools/SDKs/MacOSX.sdk/usr/include/c++/v1/__algorithm/count.h:83:1: note: candidate found by name lookup is 'std::count'\n   83 | count(_InputIterator __first, _InputIterator __last, const _Tp& __value) {\n      | ^\nFailed to parse via ::process:Parsing failed.\n",
     "output_type": "error",
     "traceback": [
      "Error: Compilation error! In file included from <<< inputs >>>:1:\ninput_line_7:17:17: error: expected '>'\n   17 | while (count < 3) {\n      |                 ^\ninput_line_7:17:14: note: to match this '<'\n   17 | while (count < 3) {\n      |              ^\ninput_line_7:17:17: error: type name requires a specifier or qualifier\n   17 | while (count < 3) {\n      |                 ^\ninput_line_7:17:17: error: expected unqualified-id\ninput_line_7:18:26: error: reference to 'count' is ambiguous\n   18 |     cout << \"Count: \" << count << endl;\n      |                          ^\ninput_line_7:16:5: note: candidate found by name lookup is 'count'\n   16 | int count = 0;\n      |     ^\n/Library/Developer/CommandLineTools/SDKs/MacOSX.sdk/usr/include/c++/v1/__algorithm/count.h:83:1: note: candidate found by name lookup is 'std::count'\n   83 | count(_InputIterator __first, _InputIterator __last, const _Tp& __value) {\n      | ^\nIn file included from <<< inputs >>>:1:\ninput_line_7:19:5: error: reference to 'count' is ambiguous\n   19 |     count++;\n      |     ^\ninput_line_7:16:5: note: candidate found by name lookup is 'count'\n   16 | int count = 0;\n      |     ^\n/Library/Developer/CommandLineTools/SDKs/MacOSX.sdk/usr/include/c++/v1/__algorithm/count.h:83:1: note: candidate found by name lookup is 'std::count'\n   83 | count(_InputIterator __first, _InputIterator __last, const _Tp& __value) {\n      | ^\nFailed to parse via ::process:Parsing failed.\n"
     ]
    }
   ],
   "source": [
    "// C++ for loop (traditional)\n",
    "cout << \"Traditional for loop:\" << endl;\n",
    "for (int i = 0; i < 5; i++) {\n",
    "    cout << \"i = \" << i << endl;\n",
    "}\n",
    "\n",
    "// C++ range-based for loop (C++11)\n",
    "cout << \"\\nRange-based for loop:\" << endl;\n",
    "vector<string> fruits = {\"apple\", \"banana\", \"orange\"};\n",
    "for (string fruit : fruits) {\n",
    "    cout << fruit << endl;\n",
    "}\n",
    "\n",
    "// C++ while loop\n",
    "cout << \"\\nWhile loop:\" << endl;\n",
    "int count = 0;\n",
    "while (count < 3) {\n",
    "    cout << \"Count: \" << count << endl;\n",
    "    count++;\n",
    "}\n"
   ]
  },
  {
   "cell_type": "raw",
   "metadata": {
    "vscode": {
     "languageId": "raw"
    }
   },
   "source": [
    "## 5. Functions\n",
    "\n",
    "### Python Functions:\n"
   ]
  },
  {
   "cell_type": "markdown",
   "metadata": {
    "vscode": {
     "languageId": "cpp"
    }
   },
   "source": [
    "```python\n",
    "# Python functions\n",
    "def greet(name):\n",
    "    return f\"Hello, {name}!\"\n",
    "\n",
    "def add(a, b):\n",
    "    return a + b\n",
    "\n",
    "def print_info(name, age=25):  # Default parameter\n",
    "    print(f\"{name} is {age} years old\")\n",
    "\n",
    "# Using functions\n",
    "print(greet(\"Alice\"))\n",
    "print(f\"5 + 3 = {add(5, 3)}\")\n",
    "print_info(\"Bob\")\n",
    "print_info(\"Charlie\", 30)\n",
    "```\n"
   ]
  },
  {
   "cell_type": "raw",
   "metadata": {
    "vscode": {
     "languageId": "raw"
    }
   },
   "source": [
    "### C++ Functions:\n"
   ]
  },
  {
   "cell_type": "code",
   "execution_count": 7,
   "metadata": {},
   "outputs": [
    {
     "name": "stdout",
     "output_type": "stream",
     "text": [
      "\n",
      "Range-based for loop:\n",
      "apple\n",
      "banana\n",
      "orange\n",
      "\n",
      "While loop:\n",
      "Traditional for loop:\n",
      "i = 0\n",
      "i = 1\n",
      "i = 2\n",
      "i = 3\n",
      "i = 4\n",
      "\n",
      "Range-based for loop:\n",
      "apple\n",
      "banana\n",
      "orange\n",
      "\n",
      "While loop:\n",
      "Traditional for loop:\n",
      "i = 0\n",
      "i = 1\n",
      "i = 2\n",
      "i = 3\n",
      "i = 4\n",
      "\n",
      "Range-based for loop:\n",
      "apple\n",
      "banana\n",
      "orange\n",
      "\n",
      "While loop:\n",
      "Traditional for loop:\n",
      "i = 0\n",
      "i = 1\n",
      "i = 2\n",
      "i = 3\n",
      "i = 4\n",
      "\n",
      "Range-based for loop:\n",
      "apple\n",
      "banana\n",
      "orange\n",
      "\n",
      "While loop:\n",
      "Hello, Alice!\n",
      "5 + 3 = 8\n",
      "Bob is 25 years old\n",
      "Charlie is 30 years old\n"
     ]
    }
   ],
   "source": [
    "// C++ functions - must specify return type and parameter types\n",
    "string greet(string name) {\n",
    "    return \"Hello, \" + name + \"!\";\n",
    "}\n",
    "\n",
    "int add(int a, int b) {\n",
    "    return a + b;\n",
    "}\n",
    "\n",
    "// void means no return value\n",
    "void print_info(string name, int age = 25) {  // Default parameter\n",
    "    cout << name << \" is \" << age << \" years old\" << endl;\n",
    "}\n",
    "\n",
    "// Using functions\n",
    "cout << greet(\"Alice\") << endl;\n",
    "cout << \"5 + 3 = \" << add(5, 3) << endl;\n",
    "print_info(\"Bob\");\n",
    "print_info(\"Charlie\", 30);\n"
   ]
  },
  {
   "cell_type": "raw",
   "metadata": {
    "vscode": {
     "languageId": "raw"
    }
   },
   "source": [
    "## 6. Arrays and Vectors\n",
    "\n",
    "### Python Lists:\n"
   ]
  },
  {
   "cell_type": "markdown",
   "metadata": {
    "vscode": {
     "languageId": "cpp"
    }
   },
   "source": [
    "```python\n",
    "# Python lists are dynamic\n",
    "numbers = [1, 2, 3, 4, 5]\n",
    "print(f\"Original: {numbers}\")\n",
    "\n",
    "numbers.append(6)              # Add to end\n",
    "numbers.insert(0, 0)          # Insert at position\n",
    "numbers.remove(3)             # Remove first occurrence\n",
    "popped = numbers.pop()        # Remove and return last\n",
    "\n",
    "print(f\"Modified: {numbers}\")\n",
    "print(f\"Length: {len(numbers)}\")\n",
    "print(f\"Slice [1:4]: {numbers[1:4]}\")\n",
    "```\n"
   ]
  },
  {
   "cell_type": "raw",
   "metadata": {
    "vscode": {
     "languageId": "raw"
    }
   },
   "source": [
    "### C++ Vectors (Dynamic, like Python lists):\n"
   ]
  },
  {
   "cell_type": "code",
   "execution_count": null,
   "metadata": {},
   "outputs": [],
   "source": [
    "// Vectors are dynamic arrays (most similar to Python lists)\n",
    "vector<int> nums = {1, 2, 3, 4, 5};\n",
    "\n",
    "cout << \"Original: \";\n",
    "for (int n : nums) cout << n << \" \";\n",
    "cout << endl;\n",
    "\n",
    "nums.push_back(6);              // Like append()\n",
    "nums.insert(nums.begin(), 0);   // Insert at beginning\n",
    "nums.pop_back();                // Remove last element\n",
    "\n",
    "cout << \"Modified: \";\n",
    "for (int n : nums) cout << n << \" \";\n",
    "cout << endl;\n",
    "\n",
    "cout << \"Size: \" << nums.size() << endl;\n",
    "cout << \"First element: \" << nums[0] << endl;\n",
    "cout << \"Last element: \" << nums.back() << endl;\n"
   ]
  },
  {
   "cell_type": "raw",
   "metadata": {
    "vscode": {
     "languageId": "raw"
    }
   },
   "source": [
    "## 7. Classes and Objects\n",
    "\n",
    "### Python Class:\n"
   ]
  },
  {
   "cell_type": "markdown",
   "metadata": {
    "vscode": {
     "languageId": "cpp"
    }
   },
   "source": [
    "```python\n",
    "# Python class\n",
    "class Person:\n",
    "    def __init__(self, name, age):\n",
    "        self.name = name\n",
    "        self.age = age\n",
    "    \n",
    "    def greet(self):\n",
    "        return f\"Hi, I'm {self.name} and I'm {self.age} years old\"\n",
    "    \n",
    "    def have_birthday(self):\n",
    "        self.age += 1\n",
    "        print(f\"Happy birthday! {self.name} is now {self.age}\")\n",
    "\n",
    "# Using the class\n",
    "person = Person(\"Alice\", 25)\n",
    "print(person.greet())\n",
    "person.have_birthday()\n",
    "```\n"
   ]
  },
  {
   "cell_type": "raw",
   "metadata": {
    "vscode": {
     "languageId": "raw"
    }
   },
   "source": [
    "### C++ Class:\n"
   ]
  },
  {
   "cell_type": "code",
   "execution_count": null,
   "metadata": {},
   "outputs": [],
   "source": [
    "// C++ class\n",
    "class Person {\n",
    "private:  // Private members (encapsulation)\n",
    "    string name;\n",
    "    int age;\n",
    "    \n",
    "public:   // Public interface\n",
    "    // Constructor\n",
    "    Person(string n, int a) {\n",
    "        name = n;\n",
    "        age = a;\n",
    "    }\n",
    "    \n",
    "    // Methods\n",
    "    string greet() {\n",
    "        return \"Hi, I'm \" + name + \" and I'm \" + to_string(age) + \" years old\";\n",
    "    }\n",
    "    \n",
    "    void have_birthday() {\n",
    "        age++;\n",
    "        cout << \"Happy birthday! \" << name << \" is now \" << age << endl;\n",
    "    }\n",
    "    \n",
    "    // Getters (accessors)\n",
    "    string getName() { return name; }\n",
    "    int getAge() { return age; }\n",
    "};\n",
    "\n",
    "// Using the class\n",
    "Person person(\"Alice\", 25);\n",
    "cout << person.greet() << endl;\n",
    "person.have_birthday();\n"
   ]
  },
  {
   "cell_type": "raw",
   "metadata": {
    "vscode": {
     "languageId": "raw"
    }
   },
   "source": [
    "## 8. Key C++ Concepts\n",
    "\n",
    "### 1. References vs Pointers\n"
   ]
  },
  {
   "cell_type": "code",
   "execution_count": null,
   "metadata": {},
   "outputs": [],
   "source": [
    "// References (&) - Like aliases to variables\n",
    "int original = 42;\n",
    "int& ref = original;  // ref is now another name for original\n",
    "\n",
    "ref = 100;  // This changes original too!\n",
    "cout << \"original = \" << original << endl;  // Prints 100\n",
    "\n",
    "// Pointers (*) - Store memory addresses\n",
    "int value = 50;\n",
    "int* ptr = &value;  // ptr stores the address of value\n",
    "\n",
    "cout << \"value = \" << value << endl;\n",
    "cout << \"address of value = \" << ptr << endl;\n",
    "cout << \"value through pointer = \" << *ptr << endl;  // Dereference with *\n"
   ]
  },
  {
   "cell_type": "raw",
   "metadata": {
    "vscode": {
     "languageId": "raw"
    }
   },
   "source": [
    "## 9. Practice Exercises\n",
    "\n",
    "### Exercise 1: FizzBuzz\n",
    "Try implementing FizzBuzz in C++!\n"
   ]
  },
  {
   "cell_type": "code",
   "execution_count": null,
   "metadata": {},
   "outputs": [],
   "source": [
    "// FizzBuzz: Print numbers 1-20\n",
    "// But: multiples of 3 → \"Fizz\"\n",
    "//      multiples of 5 → \"Buzz\"\n",
    "//      multiples of both → \"FizzBuzz\"\n",
    "\n",
    "for (int i = 1; i <= 20; i++) {\n",
    "    if (i % 15 == 0) {\n",
    "        cout << \"FizzBuzz\";\n",
    "    } else if (i % 3 == 0) {\n",
    "        cout << \"Fizz\";\n",
    "    } else if (i % 5 == 0) {\n",
    "        cout << \"Buzz\";\n",
    "    } else {\n",
    "        cout << i;\n",
    "    }\n",
    "    cout << \" \";\n",
    "}\n",
    "cout << endl;\n"
   ]
  },
  {
   "cell_type": "code",
   "execution_count": null,
   "metadata": {},
   "outputs": [],
   "source": [
    "## Summary: Python to C++ Quick Reference\n",
    "\n",
    "| Feature | Python | C++ |\n",
    "|---------|--------|-----|\n",
    "| Print | `print(\"Hello\")` | `cout << \"Hello\" << endl;` |\n",
    "| Variables | `x = 5` | `int x = 5;` |\n",
    "| Strings | `name = \"Alice\"` | `string name = \"Alice\";` |\n",
    "| Lists | `nums = [1, 2, 3]` | `vector<int> nums = {1, 2, 3};` |\n",
    "| If statement | `if x > 0:` | `if (x > 0) {` |\n",
    "| For loop | `for i in range(5):` | `for (int i = 0; i < 5; i++) {` |\n",
    "| Function | `def add(a, b):` | `int add(int a, int b) {` |\n",
    "| Class | `class Person:` | `class Person {` |\n",
    "| Comments | `# comment` | `// comment` |\n",
    "| Boolean | `True/False` | `true/false` |\n",
    "| None/null | `None` | `nullptr` or `NULL` |\n",
    "\n",
    "### Key Differences to Remember:\n",
    "1. **Static Typing**: Always declare variable types in C++\n",
    "2. **Semicolons**: End every statement with `;`\n",
    "3. **Curly Braces**: Use `{}` for blocks instead of indentation\n",
    "4. **Memory Management**: Be careful with pointers and dynamic allocation\n",
    "5. **Compilation**: C++ needs to be compiled before running\n",
    "\n",
    "### Next Steps:\n",
    "- Practice converting Python programs to C++\n",
    "- Learn about templates (C++ generics)\n",
    "- Explore the Standard Template Library (STL)\n",
    "- Understand memory management with smart pointers\n",
    "- Study object-oriented features like inheritance and polymorphism\n",
    "\n",
    "Happy coding in C++! 🚀\n"
   ]
  }
 ],
 "metadata": {
  "kernelspec": {
   "display_name": "C++23",
   "language": "cpp",
   "name": "xcpp23"
  },
  "language_info": {
   "codemirror_mode": "text/x-c++src",
   "file_extension": ".cpp",
   "mimetype": "text/x-c++src",
   "name": "cpp",
   "version": "23"
  }
 },
 "nbformat": 4,
 "nbformat_minor": 2
}
